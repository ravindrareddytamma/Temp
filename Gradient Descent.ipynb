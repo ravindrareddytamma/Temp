{
 "cells": [
  {
   "cell_type": "markdown",
   "metadata": {},
   "source": [
    "### Importing required Libraries"
   ]
  },
  {
   "cell_type": "code",
   "execution_count": 2,
   "metadata": {},
   "outputs": [],
   "source": [
    "import numpy as np\n",
    "import sklearn as sk\n",
    "import random as rd\n",
    "import math\n",
    "import pandas as pd\n",
    "from sklearn.linear_model import LinearRegression"
   ]
  },
  {
   "cell_type": "markdown",
   "metadata": {},
   "source": [
    "### Reading the dataset"
   ]
  },
  {
   "cell_type": "code",
   "execution_count": 3,
   "metadata": {},
   "outputs": [],
   "source": [
    "data = pd.read_excel(\"Concrete_Data.xls\",\n",
    "        names=['Cement','Blast_Furnace_Slag','Fly_Ash','Water','Superplasticizer','Coarse_Aggregate','Fine_Aggregate','Age','Strength'])"
   ]
  },
  {
   "cell_type": "markdown",
   "metadata": {},
   "source": [
    "### Basic Exploration"
   ]
  },
  {
   "cell_type": "code",
   "execution_count": 4,
   "metadata": {},
   "outputs": [
    {
     "name": "stdout",
     "output_type": "stream",
     "text": [
      "(1030, 9)\n",
      "9270\n",
      "2\n",
      "            Cement  Blast_Furnace_Slag      Fly_Ash        Water  \\\n",
      "count  1030.000000         1030.000000  1030.000000  1030.000000   \n",
      "mean    281.165631           73.895485    54.187136   181.566359   \n",
      "std     104.507142           86.279104    63.996469    21.355567   \n",
      "min     102.000000            0.000000     0.000000   121.750000   \n",
      "25%     192.375000            0.000000     0.000000   164.900000   \n",
      "50%     272.900000           22.000000     0.000000   185.000000   \n",
      "75%     350.000000          142.950000   118.270000   192.000000   \n",
      "max     540.000000          359.400000   200.100000   247.000000   \n",
      "\n",
      "       Superplasticizer  Coarse_Aggregate  Fine_Aggregate          Age  \\\n",
      "count       1030.000000       1030.000000     1030.000000  1030.000000   \n",
      "mean           6.203112        972.918592      773.578883    45.662136   \n",
      "std            5.973492         77.753818       80.175427    63.169912   \n",
      "min            0.000000        801.000000      594.000000     1.000000   \n",
      "25%            0.000000        932.000000      730.950000     7.000000   \n",
      "50%            6.350000        968.000000      779.510000    28.000000   \n",
      "75%           10.160000       1029.400000      824.000000    56.000000   \n",
      "max           32.200000       1145.000000      992.600000   365.000000   \n",
      "\n",
      "          Strength  \n",
      "count  1030.000000  \n",
      "mean     35.817836  \n",
      "std      16.705679  \n",
      "min       2.331808  \n",
      "25%      23.707115  \n",
      "50%      34.442774  \n",
      "75%      46.136287  \n",
      "max      82.599225  \n"
     ]
    }
   ],
   "source": [
    "print(data.shape)\n",
    "print(data.size)\n",
    "print(data.ndim)\n",
    "## summary of a dataset in Python - Analogous to summary() in R\n",
    "print(data.describe())"
   ]
  },
  {
   "cell_type": "markdown",
   "metadata": {},
   "source": [
    "### Head & Tail Function"
   ]
  },
  {
   "cell_type": "code",
   "execution_count": 5,
   "metadata": {},
   "outputs": [
    {
     "name": "stdout",
     "output_type": "stream",
     "text": [
      "   Cement  Blast_Furnace_Slag  Fly_Ash  Water  Superplasticizer  \\\n",
      "0   540.0                 0.0      0.0  162.0               2.5   \n",
      "1   540.0                 0.0      0.0  162.0               2.5   \n",
      "2   332.5               142.5      0.0  228.0               0.0   \n",
      "3   332.5               142.5      0.0  228.0               0.0   \n",
      "4   198.6               132.4      0.0  192.0               0.0   \n",
      "\n",
      "   Coarse_Aggregate  Fine_Aggregate  Age   Strength  \n",
      "0            1040.0           676.0   28  79.986111  \n",
      "1            1055.0           676.0   28  61.887366  \n",
      "2             932.0           594.0  270  40.269535  \n",
      "3             932.0           594.0  365  41.052780  \n",
      "4             978.4           825.5  360  44.296075  \n",
      "      Cement  Blast_Furnace_Slag  Fly_Ash  Water  Superplasticizer  \\\n",
      "1025   276.4               116.0     90.3  179.6               8.9   \n",
      "1026   322.2                 0.0    115.6  196.0              10.4   \n",
      "1027   148.5               139.4    108.6  192.7               6.1   \n",
      "1028   159.1               186.7      0.0  175.6              11.3   \n",
      "1029   260.9               100.5     78.3  200.6               8.6   \n",
      "\n",
      "      Coarse_Aggregate  Fine_Aggregate  Age   Strength  \n",
      "1025             870.1           768.3   28  44.284354  \n",
      "1026             817.9           813.4   28  31.178794  \n",
      "1027             892.4           780.0   28  23.696601  \n",
      "1028             989.6           788.9   28  32.768036  \n",
      "1029             864.5           761.5   28  32.401235  \n"
     ]
    }
   ],
   "source": [
    "print(data.head(5))\n",
    "print(data.tail(5))"
   ]
  },
  {
   "cell_type": "markdown",
   "metadata": {},
   "source": [
    "### Splitting the data into train & test sets"
   ]
  },
  {
   "cell_type": "code",
   "execution_count": 6,
   "metadata": {},
   "outputs": [],
   "source": [
    "rd.seed(121)\n",
    "train_ind = rd.sample(range(len(data)),round(0.8*len(data)))\n",
    "train = data.iloc[train_ind]\n",
    "test = data[~data.index.isin(train_ind)]"
   ]
  },
  {
   "cell_type": "markdown",
   "metadata": {},
   "source": [
    "### Model Fitting"
   ]
  },
  {
   "cell_type": "code",
   "execution_count": 7,
   "metadata": {},
   "outputs": [],
   "source": [
    "train_x = train.drop('Strength',axis=1)\n",
    "train_y = train['Strength']\n",
    "model = LinearRegression().fit(train_x,train_y)"
   ]
  },
  {
   "cell_type": "markdown",
   "metadata": {},
   "source": [
    "### Model Parameters"
   ]
  },
  {
   "cell_type": "code",
   "execution_count": 8,
   "metadata": {},
   "outputs": [
    {
     "name": "stdout",
     "output_type": "stream",
     "text": [
      "Co-efficients [ 0.11225016  0.09628248  0.08259618 -0.19751246  0.20735114  0.00735064\n",
      "  0.01060829  0.11912649]\n",
      "Intercept 6.347853712571769\n",
      "R-Squared 0.6127998393444383\n"
     ]
    }
   ],
   "source": [
    "print(\"Co-efficients\",model.coef_)\n",
    "print(\"Intercept\",model.intercept_)\n",
    "print(\"R-Squared\",model.score(train_x,train_y))"
   ]
  },
  {
   "cell_type": "markdown",
   "metadata": {},
   "source": [
    "### Model performance on test set"
   ]
  },
  {
   "cell_type": "code",
   "execution_count": 9,
   "metadata": {},
   "outputs": [
    {
     "name": "stdout",
     "output_type": "stream",
     "text": [
      "MSE Value :  103.56482899142354\n"
     ]
    }
   ],
   "source": [
    "test_x = test.drop('Strength',axis=1)\n",
    "test_y = test['Strength']\n",
    "y_pred = model.predict(test_x)\n",
    "print(\"MSE Value : \",(sum((test_y.values - y_pred)**2)/len(y_pred)))"
   ]
  },
  {
   "cell_type": "markdown",
   "metadata": {},
   "source": [
    "### Manually Implementing Linear Regression (using batch Gradient Descent)"
   ]
  },
  {
   "cell_type": "code",
   "execution_count": null,
   "metadata": {},
   "outputs": [],
   "source": [
    "class MyLinearRegression:\n",
    "    def __init__(self,train_x,train_y,epoch,alpha,normalize = True):\n",
    "        n = len(train_y)\n",
    "        coeff = np.random.randn(train_x.shape[1])\n",
    "        intercept = np.random.randn(1)\n",
    "        for i in range(epochs):\n",
    "            y_pred = np.dot(coeff,train_x.T) + intercept\n",
    "            print(\"|======= Epoch \",i+1,\"=========|\")\n",
    "            print(\"MSE Error : \",sum((train_y - y_pred)**2)/n)\n",
    "            if(i+1 == epochs):break\n",
    "        mult_fact = (y_pred - train_y)\n",
    "        dcoeff = (1/n) * np.dot(train_x.T,mult_fact)\n",
    "        dintercept = (1/n) * np.sum(mult_fact)\n",
    "#         print(sum(mult_fact))\n",
    "        ## updating weights and biases\n",
    "        coeff = coeff - alpha*dcoeff\n",
    "        intercept = intercept - alpha*dintercept\n",
    "    \n",
    "#     train_var = np.sum((train_y - np.mean(train_y))**2)\n",
    "#     err_var = np.sum((train_y - y_pred)**2)\n",
    "    d = dict()\n",
    "#     d['R-Squared'] = 1-(err_var/train_var)\n",
    "    d['Coefficients'] = coeff\n",
    "    d['Intercept'] = intercept\n",
    "    return(d)\n",
    "        \n",
    "        \n",
    "def linear_regression(train_x,train_y,epochs,alpha):\n",
    "    n = len(train_y)\n",
    "    rd.seed(121)\n",
    "    coeff = np.random.randn(train_x.shape[1])\n",
    "    intercept = np.random.randn(1)\n",
    "    for i in range(epochs):\n",
    "        y_pred = np.dot(coeff,train_x.T) + intercept\n",
    "#         print(\"|======= Epoch \",i+1,\"=========|\")\n",
    "#         print(\"MSE Error : \",cost_function(actual=train_y,pred=y_pred))\n",
    "        if(i+1 == epochs):\n",
    "            break\n",
    "        mult_fact = (y_pred - train_y)\n",
    "        dcoeff = (1/n) * np.dot(train_x.T,mult_fact)\n",
    "        dintercept = (1/n) * np.sum(mult_fact)\n",
    "#         print(sum(mult_fact))\n",
    "        ## updating weights and biases\n",
    "        coeff = coeff - alpha*dcoeff\n",
    "        intercept = intercept - alpha*dintercept\n",
    "    \n",
    "#     train_var = np.sum((train_y - np.mean(train_y))**2)\n",
    "#     err_var = np.sum((train_y - y_pred)**2)\n",
    "    d = dict()\n",
    "#     d['R-Squared'] = 1-(err_var/train_var)\n",
    "    d['Coefficients'] = coeff\n",
    "    d['Intercept'] = intercept\n",
    "    return(d)\n",
    "    "
   ]
  },
  {
   "cell_type": "code",
   "execution_count": null,
   "metadata": {},
   "outputs": [],
   "source": [
    "###### Sales data\n",
    "sales_data = pd.read_csv(\"Advertising.csv\")\n",
    "## Removing columns\n",
    "sales_data = sales_data.drop('Unnamed: 0',axis=1)\n",
    "## Names of columns\n",
    "sales_data.columns.tolist()"
   ]
  },
  {
   "cell_type": "code",
   "execution_count": null,
   "metadata": {},
   "outputs": [],
   "source": [
    "rd.seed(121)\n",
    "train_ind = rd.sample(range(len(sales_data)),round(0.8*len(sales_data)))\n",
    "train = sales_data.iloc[train_ind]\n",
    "test = sales_data[~sales_data.index.isin(train_ind)]"
   ]
  },
  {
   "cell_type": "code",
   "execution_count": null,
   "metadata": {},
   "outputs": [],
   "source": [
    "train_x = train.drop('Sales',axis=1)\n",
    "train_y = train['Sales']\n",
    "model = LinearRegression().fit(train_x,train_y)"
   ]
  },
  {
   "cell_type": "code",
   "execution_count": null,
   "metadata": {},
   "outputs": [],
   "source": [
    "print(\"Co-efficients\",model.coef_)\n",
    "print(\"Intercept\",model.intercept_)\n",
    "print(\"R-Squared\",model.score(train_x,train_y))"
   ]
  },
  {
   "cell_type": "code",
   "execution_count": null,
   "metadata": {},
   "outputs": [],
   "source": [
    "test_x = test.drop('Sales',axis=1)\n",
    "test_y = test['Sales']\n",
    "y_pred = model.predict(test_x)\n",
    "print(\"MSE Value : \",(sum((test_y.values - y_pred)**2)/len(y_pred)))"
   ]
  },
  {
   "cell_type": "code",
   "execution_count": null,
   "metadata": {},
   "outputs": [],
   "source": [
    "def cost_function(actual,pred):\n",
    "    return(sum((actual - pred)**2)/len(actual))\n",
    "\n",
    "### Starting with random values\n",
    "rd.seed(121)\n",
    "coeff = np.random.randn(3)\n",
    "intercept = np.random.randn(1)\n",
    "\n",
    "### Learning Rate\n",
    "alpha = 0.05"
   ]
  },
  {
   "cell_type": "code",
   "execution_count": 10,
   "metadata": {},
   "outputs": [],
   "source": []
  },
  {
   "cell_type": "code",
   "execution_count": 11,
   "metadata": {},
   "outputs": [],
   "source": [
    "test_x = test_x/1145\n",
    "train_x = train_x/1145"
   ]
  },
  {
   "cell_type": "code",
   "execution_count": 13,
   "metadata": {},
   "outputs": [
    {
     "data": {
      "text/plain": [
       "{'Coefficients': array([42.9720288 , 13.34035135, -1.51846581, -2.001031  ,  2.22772771,\n",
       "         1.98995506,  2.29939762, 18.97167825]),\n",
       " 'Intercept': array([20.47614215])}"
      ]
     },
     "execution_count": 13,
     "metadata": {},
     "output_type": "execute_result"
    }
   ],
   "source": [
    "linear_regression(train_x=train_x.values,train_y=train_y.values,epochs=7000,alpha=0.01)"
   ]
  },
  {
   "cell_type": "code",
   "execution_count": null,
   "metadata": {},
   "outputs": [],
   "source": [
    "params = [m1,m2,m3,intercept]\n",
    "mse_prev = 0\n",
    "for i in range(0,10):\n",
    "    y_pred = np.sum(params[0:3] * train_x.values,axis=1) + params[3]\n",
    "    print('=============== Iteration ',i+1,' ================',)\n",
    "    mse = cost_func(train_y,y_pred)\n",
    "    print(\"MSE Error :\",cost_func(train_y,y_pred))\n",
    "    print(\"Updating the values of parameter\")\n",
    "    if(mse_prev < mse):\n",
    "        params = [m1 - alpha*get_gradient(input_x_vals=train_x,input_y_vals=train_y,parameter=\"m1\",values=params),\n",
    "             m2 - alpha*get_gradient(input_x_vals=train_x,input_y_vals=train_y,parameter=\"m2\",values=params),\n",
    "             m3 - alpha*get_gradient(input_x_vals=train_x,input_y_vals=train_y,parameter=\"m3\",values=params),\n",
    "             intercept - alpha*get_gradient(input_x_vals=train_x,input_y_vals=train_y,parameter=\"intercept\",values=params)]\n",
    "        mse_prev = mse\n",
    "    else:\n",
    "        params = [m1 + alpha*get_gradient(input_x_vals=train_x,input_y_vals=train_y,parameter=\"m1\",values=params),\n",
    "             m2 + alpha*get_gradient(input_x_vals=train_x,input_y_vals=train_y,parameter=\"m2\",values=params),\n",
    "             m3 + alpha*get_gradient(input_x_vals=train_x,input_y_vals=train_y,parameter=\"m3\",values=params),\n",
    "             intercept + alpha*get_gradient(input_x_vals=train_x,input_y_vals=train_y,parameter=\"intercept\",values=params)]\n",
    "        mse_prev = mse\n",
    "        \n"
   ]
  },
  {
   "cell_type": "code",
   "execution_count": null,
   "metadata": {},
   "outputs": [],
   "source": [
    "params = [m1,m2,m3,intercept]\n",
    "mse = cost_func(train_y,y_pred)"
   ]
  },
  {
   "cell_type": "code",
   "execution_count": null,
   "metadata": {},
   "outputs": [],
   "source": [
    "params = [m1 - alpha*get_gradient(input_x_vals=train_x,input_y_vals=train_y,parameter=\"m1\",values=params),\n",
    "             m2 - alpha*get_gradient(input_x_vals=train_x,input_y_vals=train_y,parameter=\"m2\",values=params),\n",
    "             m3 - alpha*get_gradient(input_x_vals=train_x,input_y_vals=train_y,parameter=\"m3\",values=params),\n",
    "             intercept - alpha*get_gradient(input_x_vals=train_x,input_y_vals=train_y,parameter=\"intercept\",values=params)]\n",
    "mse_prev = mse"
   ]
  },
  {
   "cell_type": "code",
   "execution_count": null,
   "metadata": {},
   "outputs": [],
   "source": [
    " y_pred = np.sum(params[0:3] * train_x.values,axis=1) + params[3]"
   ]
  },
  {
   "cell_type": "code",
   "execution_count": null,
   "metadata": {},
   "outputs": [],
   "source": [
    "mse = cost_func(train_y,y_pred)\n",
    "mse"
   ]
  },
  {
   "cell_type": "code",
   "execution_count": null,
   "metadata": {},
   "outputs": [],
   "source": [
    "print(params)\n",
    "print(mse_prev)"
   ]
  },
  {
   "cell_type": "code",
   "execution_count": null,
   "metadata": {},
   "outputs": [],
   "source": [
    "values = params\n",
    "input_x_vals=train_x.values\n",
    "input_y_vals=train_y.values\n",
    "parameter='m1'"
   ]
  }
 ],
 "metadata": {
  "kernelspec": {
   "display_name": "Python 3",
   "language": "python",
   "name": "python3"
  },
  "language_info": {
   "codemirror_mode": {
    "name": "ipython",
    "version": 3
   },
   "file_extension": ".py",
   "mimetype": "text/x-python",
   "name": "python",
   "nbconvert_exporter": "python",
   "pygments_lexer": "ipython3",
   "version": "3.6.5"
  }
 },
 "nbformat": 4,
 "nbformat_minor": 2
}
